{
 "cells": [
  {
   "cell_type": "code",
   "execution_count": 50,
   "metadata": {},
   "outputs": [],
   "source": [
    "import pandas as pd\n"
   ]
  },
  {
   "cell_type": "markdown",
   "metadata": {},
   "source": [
    "# Loading people.csv from exercise 1\n",
    "* Imported necessary columns and updated dtype of the created_dt column to datetime. \n",
    "* Printed the info and head of the dataframe to confirm everything loaded properly.\n",
    "* It is confirmed correct! "
   ]
  },
  {
   "cell_type": "code",
   "execution_count": 51,
   "metadata": {},
   "outputs": [
    {
     "name": "stdout",
     "output_type": "stream",
     "text": [
      "Loading data...\n",
      "<class 'pandas.core.frame.DataFrame'>\n",
      "RangeIndex: 173990 entries, 0 to 173989\n",
      "Data columns (total 2 columns):\n",
      " #   Column      Non-Null Count   Dtype         \n",
      "---  ------      --------------   -----         \n",
      " 0   email       173990 non-null  object        \n",
      " 1   created_dt  173990 non-null  datetime64[ns]\n",
      "dtypes: datetime64[ns](1), object(1)\n",
      "memory usage: 2.7+ MB\n",
      "None\n",
      "                       email          created_dt\n",
      "0  caustin@spears-carson.com 1979-03-05 21:08:54\n",
      "1            klewis@ford.biz 2008-08-22 19:20:28\n",
      "2  stephenhamilton@gmail.com 2007-07-19 18:28:09\n",
      "3           norr@donovan.com 2004-11-11 02:32:27\n",
      "4        christy72@yahoo.com 1984-03-29 19:14:34\n"
     ]
    }
   ],
   "source": [
    "print('Loading data...')\n",
    "# Imported csv from exercise 1\n",
    "people = pd.read_csv('people.csv', usecols=['email', 'created_dt'], parse_dates=['created_dt'])\n",
    "\n",
    "print(people.info())\n",
    "print(people.head())"
   ]
  },
  {
   "cell_type": "markdown",
   "metadata": {},
   "source": [
    "# Transforming the data\n",
    "* Transformed the column names to the correct naming convention from the scheme.\n",
    "* Transformed the create_dt and modified_dt columns from object dtype to the correct datetime dtypes.\n",
    "* Printed the info and head of the dataframe to confirm everything loaded properly. \n",
    "* It is confirmed correct! "
   ]
  },
  {
   "cell_type": "code",
   "execution_count": 52,
   "metadata": {},
   "outputs": [
    {
     "name": "stdout",
     "output_type": "stream",
     "text": [
      "<class 'pandas.core.frame.DataFrame'>\n",
      "RangeIndex: 173990 entries, 0 to 173989\n",
      "Data columns (total 2 columns):\n",
      " #   Column            Non-Null Count   Dtype \n",
      "---  ------            --------------   ----- \n",
      " 0   email             173990 non-null  object\n",
      " 1   acquisition_date  173990 non-null  object\n",
      "dtypes: object(2)\n",
      "memory usage: 2.7+ MB\n",
      "None\n",
      "                       email acquisition_date\n",
      "0  caustin@spears-carson.com       1979-03-05\n",
      "1            klewis@ford.biz       2008-08-22\n",
      "2  stephenhamilton@gmail.com       2007-07-19\n",
      "3           norr@donovan.com       2004-11-11\n",
      "4        christy72@yahoo.com       1984-03-29\n"
     ]
    }
   ],
   "source": [
    "# Renames columns to naming convention per schema\n",
    "people.columns=['email', 'acquisition_date']\n",
    "#Change dtype from datetime to date\n",
    "people['acquisition_date'] = people['acquisition_date'].dt.date\n",
    "\n",
    "print(people.info())\n",
    "print(people.head())"
   ]
  },
  {
   "cell_type": "markdown",
   "metadata": {},
   "source": [
    "# Aggregate\n",
    "* A groupby of acquisition_date and email was performed to count the constituents acquired on that date.\n",
    "* Renamed the resulted aggregate column to acquisitions.\n",
    "* I have printed the info and head of the dataframe to confirm everything loaded properly. \n",
    "* It is confirmed correct! "
   ]
  },
  {
   "cell_type": "code",
   "execution_count": 53,
   "metadata": {},
   "outputs": [
    {
     "name": "stdout",
     "output_type": "stream",
     "text": [
      "<class 'pandas.core.series.Series'>\n",
      "Index: 18443 entries, 1970-01-01 to 2020-07-01\n",
      "Series name: acquisitions\n",
      "Non-Null Count  Dtype\n",
      "--------------  -----\n",
      "18443 non-null  int64\n",
      "dtypes: int64(1)\n",
      "memory usage: 288.2+ KB\n",
      "None\n",
      "acquisition_date\n",
      "1970-01-01     8\n",
      "1970-01-02     9\n",
      "1970-01-03     8\n",
      "1970-01-04    11\n",
      "1970-01-05    13\n",
      "Name: acquisitions, dtype: int64\n"
     ]
    }
   ],
   "source": [
    "# A groupby to count the constituents acquired on specific date. Renamed the resulted aggregate column to acquisitions.\n",
    "acquisitions = people.groupby('acquisition_date')['email'].count().rename('acquisitions')\n",
    "print(acquisitions.info())\n",
    "print(acquisitions.head())"
   ]
  },
  {
   "cell_type": "markdown",
   "metadata": {},
   "source": [
    "# Outputting data to acquisition_facts.csv\n",
    "* Saves created csv to working directory."
   ]
  },
  {
   "cell_type": "code",
   "execution_count": 54,
   "metadata": {},
   "outputs": [],
   "source": [
    "acquisitions.to_csv('acquisition_facts.csv')"
   ]
  }
 ],
 "metadata": {
  "kernelspec": {
   "display_name": "Python 3.9.7 ('django_env-PfirZK_n')",
   "language": "python",
   "name": "python3"
  },
  "language_info": {
   "name": "python",
   "version": "3.9.7"
  },
  "orig_nbformat": 4,
  "vscode": {
   "interpreter": {
    "hash": "66a3c6d70bcf6171239691ccdcc59b6ab7c6df0e23e4716bf4d47e436efa6e0f"
   }
  }
 },
 "nbformat": 4,
 "nbformat_minor": 2
}

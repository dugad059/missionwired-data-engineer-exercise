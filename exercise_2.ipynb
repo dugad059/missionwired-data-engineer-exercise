{
 "cells": [
  {
   "cell_type": "code",
   "execution_count": 66,
   "metadata": {},
   "outputs": [],
   "source": [
    "import pandas as pd\n"
   ]
  },
  {
   "cell_type": "markdown",
   "metadata": {},
   "source": [
    "# Loading people.csv from exercise 1\n",
    "* Imported necessary columns and updated dtype of the created_dt column to datetime. \n",
    "* Printed the info and head of the dataframe to confirm everything loaded properly.\n",
    "* It is confirmed correct! "
   ]
  },
  {
   "cell_type": "code",
   "execution_count": 67,
   "metadata": {},
   "outputs": [
    {
     "name": "stdout",
     "output_type": "stream",
     "text": [
      "Loading data...\n",
      "<class 'pandas.core.frame.DataFrame'>\n",
      "RangeIndex: 700000 entries, 0 to 699999\n",
      "Data columns (total 2 columns):\n",
      " #   Column      Non-Null Count   Dtype         \n",
      "---  ------      --------------   -----         \n",
      " 0   email       605639 non-null  object        \n",
      " 1   created_dt  700000 non-null  datetime64[ns]\n",
      "dtypes: datetime64[ns](1), object(1)\n",
      "memory usage: 10.7+ MB\n",
      "None\n",
      "                       email          created_dt\n",
      "0        daniel72@hudson.com 1983-08-26 06:02:03\n",
      "1  caustin@spears-carson.com 1979-03-05 21:08:54\n",
      "2            klewis@ford.biz 2008-08-22 19:20:28\n",
      "3                        NaN 1984-04-29 11:18:18\n",
      "4  stephenhamilton@gmail.com 2007-07-19 18:28:09\n"
     ]
    }
   ],
   "source": [
    "print('Loading data...')\n",
    "# Imported csv from exercise 1\n",
    "people = pd.read_csv('people.csv', usecols=['email', 'created_dt'], parse_dates=['created_dt'])\n",
    "\n",
    "print(people.info())\n",
    "print(people.head())"
   ]
  },
  {
   "cell_type": "markdown",
   "metadata": {},
   "source": [
    "# Transforming the data\n",
    "* Transformed the column names to the correct naming convention from the scheme.\n",
    "* Transformed the create_dt and modified_dt columns from object dtype to the correct datetime dtypes.\n",
    "* Printed the info and head of the dataframe to confirm everything loaded properly. \n",
    "* It is confirmed correct! "
   ]
  },
  {
   "cell_type": "code",
   "execution_count": 68,
   "metadata": {},
   "outputs": [
    {
     "name": "stdout",
     "output_type": "stream",
     "text": [
      "<class 'pandas.core.frame.DataFrame'>\n",
      "RangeIndex: 700000 entries, 0 to 699999\n",
      "Data columns (total 2 columns):\n",
      " #   Column            Non-Null Count   Dtype \n",
      "---  ------            --------------   ----- \n",
      " 0   email             605639 non-null  object\n",
      " 1   acquisition_date  700000 non-null  object\n",
      "dtypes: object(2)\n",
      "memory usage: 10.7+ MB\n",
      "None\n",
      "                       email acquisition_date\n",
      "0        daniel72@hudson.com       1983-08-26\n",
      "1  caustin@spears-carson.com       1979-03-05\n",
      "2            klewis@ford.biz       2008-08-22\n",
      "3                        NaN       1984-04-29\n",
      "4  stephenhamilton@gmail.com       2007-07-19\n"
     ]
    }
   ],
   "source": [
    "# Renames columns to naming convention per schema\n",
    "people.columns=['email', 'acquisition_date']\n",
    "#Change dtype from datetime to date\n",
    "people['acquisition_date'] = people['acquisition_date'].dt.date\n",
    "\n",
    "print(people.info())\n",
    "print(people.head())"
   ]
  },
  {
   "cell_type": "markdown",
   "metadata": {},
   "source": [
    "# Aggregate\n",
    "* A groupby of acquisition_date and email was performed to count the constituents acquired on that date.\n",
    "* Renamed the resulted aggregate column to acquisitions.\n",
    "* I have printed the info and head of the dataframe to confirm everything loaded properly. \n",
    "* It is confirmed correct! "
   ]
  },
  {
   "cell_type": "code",
   "execution_count": 69,
   "metadata": {},
   "outputs": [
    {
     "name": "stdout",
     "output_type": "stream",
     "text": [
      "<class 'pandas.core.series.Series'>\n",
      "Index: 18445 entries, 1970-01-01 to 2020-07-01\n",
      "Series name: acquisitions\n",
      "Non-Null Count  Dtype\n",
      "--------------  -----\n",
      "18445 non-null  int64\n",
      "dtypes: int64(1)\n",
      "memory usage: 288.2+ KB\n",
      "None\n",
      "acquisition_date\n",
      "1970-01-01    28\n",
      "1970-01-02    34\n",
      "1970-01-03    27\n",
      "1970-01-04    36\n",
      "1970-01-05    39\n",
      "Name: acquisitions, dtype: int64\n"
     ]
    }
   ],
   "source": [
    "# A groupby to count the constituents acquired on specific date. Renamed the resulted aggregate column to acquisitions.\n",
    "acquisitions = people.groupby('acquisition_date')['email'].count().rename('acquisitions')\n",
    "print(acquisitions.info())\n",
    "print(acquisitions.head())"
   ]
  },
  {
   "cell_type": "markdown",
   "metadata": {},
   "source": [
    "# Outputting data to acquisition_facts.csv\n",
    "* Saves created csv to working directory."
   ]
  },
  {
   "cell_type": "code",
   "execution_count": 70,
   "metadata": {},
   "outputs": [],
   "source": [
    "acquisitions.to_csv('acquisition_facts.csv')"
   ]
  }
 ],
 "metadata": {
  "kernelspec": {
   "display_name": "Python 3.9.7 ('django_env-PfirZK_n')",
   "language": "python",
   "name": "python3"
  },
  "language_info": {
   "name": "python",
   "version": "3.9.7"
  },
  "orig_nbformat": 4,
  "vscode": {
   "interpreter": {
    "hash": "66a3c6d70bcf6171239691ccdcc59b6ab7c6df0e23e4716bf4d47e436efa6e0f"
   }
  }
 },
 "nbformat": 4,
 "nbformat_minor": 2
}
